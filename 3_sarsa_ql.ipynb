{
 "cells": [
  {
   "cell_type": "markdown",
   "id": "40e91c3b-0065-472c-a07d-0d375eb2dd48",
   "metadata": {},
   "source": [
    "<br>\n",
    "\n",
    "## Loading libraries"
   ]
  },
  {
   "cell_type": "code",
   "execution_count": 2,
   "id": "appreciated-anthropology",
   "metadata": {},
   "outputs": [
    {
     "name": "stderr",
     "output_type": "stream",
     "text": [
      "\u001b[34m\u001b[1mwandb\u001b[0m: Currently logged in as: \u001b[33mvinas\u001b[0m (use `wandb login --relogin` to force relogin)\n"
     ]
    }
   ],
   "source": [
    "# core\n",
    "import gym\n",
    "import wandb\n",
    "import numpy as np\n",
    "from tqdm import tqdm\n",
    "\n",
    "# graphics\n",
    "import matplotlib.pyplot as plt\n",
    "import seaborn as sns\n",
    "\n",
    "# sklearn\n",
    "from sklearn.cluster import KMeans\n",
    "\n",
    "wandb.login();"
   ]
  },
  {
   "cell_type": "markdown",
   "id": "9363b953-5f37-4bc9-a0fb-d4864584b192",
   "metadata": {},
   "source": [
    "<br>\n",
    "<br>\n",
    "<br>\n",
    "\n",
    "## Setting up wandb environment"
   ]
  },
  {
   "cell_type": "code",
   "execution_count": 2,
   "id": "d839808a-6966-416c-b96b-66d908fb01b0",
   "metadata": {},
   "outputs": [
    {
     "data": {
      "text/html": [
       "\n",
       "                Tracking run with wandb version 0.10.33<br/>\n",
       "                Syncing run <strong style=\"color:#cdcd00\">earthy-deluge-99</strong> to <a href=\"https://wandb.ai\" target=\"_blank\">Weights & Biases</a> <a href=\"https://docs.wandb.com/integrations/jupyter.html\" target=\"_blank\">(Documentation)</a>.<br/>\n",
       "                Project page: <a href=\"https://wandb.ai/vinas/MountainCarProblem\" target=\"_blank\">https://wandb.ai/vinas/MountainCarProblem</a><br/>\n",
       "                Run page: <a href=\"https://wandb.ai/vinas/MountainCarProblem/runs/1rfktit6\" target=\"_blank\">https://wandb.ai/vinas/MountainCarProblem/runs/1rfktit6</a><br/>\n",
       "                Run data is saved locally in <code>/home/vinas/Documents/GitHub/Public/MountainCarProblem/wandb/run-20210711_164808-1rfktit6</code><br/><br/>\n",
       "            "
      ],
      "text/plain": [
       "<IPython.core.display.HTML object>"
      ]
     },
     "metadata": {},
     "output_type": "display_data"
    }
   ],
   "source": [
    "# Training environment initialisations\n",
    "PARAMS = {\n",
    "    'algo': 'Q_learning', # SARSA or Q_learning\n",
    "    'n_states': 40,\n",
    "    'episodes': 5000,\n",
    "    'max_steps': 3000,\n",
    "    'initial_lr': 0.1,\n",
    "    'min_lr': 0.005,\n",
    "    'J': 100,\n",
    "    'gamma': 0.99,\n",
    "    'epsilon': 0.05,\n",
    "    'seed': 17\n",
    "}       \n",
    "\n",
    "\n",
    "wandb.init(project='MountainCarProblem', config=PARAMS, reinit=True)\n",
    "wandb.save('./3_online_ql_sarsa.ipynb')\n",
    "PARAMS = wandb.config"
   ]
  },
  {
   "cell_type": "markdown",
   "id": "lyric-exhibit",
   "metadata": {
    "tags": []
   },
   "source": [
    "</br>\n",
    "</br>\n",
    "\n",
    "## Creating and Exploring the environment"
   ]
  },
  {
   "cell_type": "code",
   "execution_count": 3,
   "id": "functional-queensland",
   "metadata": {},
   "outputs": [],
   "source": [
    "env_name = 'MountainCar-v0'\n",
    "env = gym.make(env_name).unwrapped\n",
    "env_low = env.observation_space.low\n",
    "env_high = env.observation_space.high"
   ]
  },
  {
   "cell_type": "markdown",
   "id": "a61964cc-b813-4f3d-9417-167aa7c0c1f7",
   "metadata": {},
   "source": [
    "</br>\n",
    "</br>\n",
    "\n",
    "## Exploring and learning from the environment"
   ]
  },
  {
   "cell_type": "code",
   "execution_count": 4,
   "id": "widespread-affiliate",
   "metadata": {},
   "outputs": [],
   "source": [
    "def RBF_transform(state_act, kmeans_centres, sig):\n",
    "    # Executing an RBF transform over a state-action combination\n",
    "    return np.exp(-np.linalg.norm(state_act - kmeans_centres, axis=1)/sig)\n",
    "\n",
    "def get_values(state_acts, w, kmeans_centres, sig):\n",
    "    # Predicting the values of given state-action combinations\n",
    "    u = np.array(list(map(lambda x: RBF_transform(x, kmeans_centres, sig), state_acts)))\n",
    "    return u@w\n",
    "\n",
    "def choose_action(values, epsilon):\n",
    "    if np.random.uniform(low=0, high=1) < epsilon:\n",
    "        a = env.action_space.sample()\n",
    "    else:\n",
    "        a = np.argmax(values)\n",
    "    return a\n",
    "\n",
    "def moving_average(data_set, periods=3):\n",
    "    weights = np.ones(periods) / periods\n",
    "    return np.convolve(data_set, weights, mode='valid')\n",
    "\n",
    "def get_kcentres(env, PARAMS):\n",
    "    \n",
    "    # Creating a design matrix from all possible state-action combinations\n",
    "    ls = np.linspace(env_low, env_high, PARAMS['n_states']).T\n",
    "    X = np.array(np.meshgrid(ls[0], ls[1], range(env.action_space.n))).T.reshape(-1,3).round(3)\n",
    "\n",
    "    actions = X[:,2].astype(int)\n",
    "    onehot_actions = np.eye(env.action_space.n)[actions]\n",
    "    X = np.concatenate((X[:,:2], onehot_actions), axis=1)\n",
    "\n",
    "    # Finding J centres and the standard deviation\n",
    "    sig = np.std(X)\n",
    "    kmeans_centres = KMeans(n_clusters=PARAMS['J'], random_state=PARAMS['seed']).fit(X).cluster_centers_\n",
    "\n",
    "    return kmeans_centres, sig\n",
    "\n",
    "def get_lrates(PARAMS, p):\n",
    "    \n",
    "    # Scheduling the learning rate\n",
    "    x = np.log(PARAMS['min_lr']/PARAMS['initial_lr']) / np.log(PARAMS['gamma'])\n",
    "    powers = np.linspace(0, x, PARAMS['episodes'])\n",
    "    powers = np.floor(powers/p)*p\n",
    "    l_rates = PARAMS['initial_lr']*(PARAMS['gamma']**powers)\n",
    "\n",
    "    plt.plot(l_rates)\n",
    "    plt.grid()\n",
    "    plt.title('Stepped, exponentially decaying learning rate')\n",
    "    sns.despine()\n",
    "    \n",
    "    return l_rates"
   ]
  },
  {
   "cell_type": "code",
   "execution_count": 5,
   "id": "c32d06dc-5e5d-4819-8e0b-4f0598f56026",
   "metadata": {},
   "outputs": [
    {
     "data": {
      "image/png": "[encoded data removed]",
      "text/plain": [
       "<Figure size 432x288 with 1 Axes>"
      ]
     },
     "metadata": {
      "needs_background": "light"
     },
     "output_type": "display_data"
    }
   ],
   "source": [
    "kmeans_centres, sig = get_kcentres(env, PARAMS)\n",
    "l_rates = get_lrates(PARAMS, 100)"
   ]
  },
  {
   "cell_type": "markdown",
   "id": "collected-strip",
   "metadata": {},
   "source": [
    "<img src='sarsa_algo.png'>"
   ]
  },
  {
   "cell_type": "code",
   "execution_count": 6,
   "id": "frank-cardiff",
   "metadata": {
    "tags": []
   },
   "outputs": [
    {
     "name": "stderr",
     "output_type": "stream",
     "text": [
      "100%|██████████| 5000/5000 [12:31<00:00,  6.66it/s, done_count=4777, steps_taken=238] \n"
     ]
    }
   ],
   "source": [
    "w = np.zeros(PARAMS['J'])\n",
    "done_count = 0\n",
    "breaker = 0\n",
    "\n",
    "render = False\n",
    "pbar = tqdm(range(PARAMS['episodes']))\n",
    "for episode in pbar:\n",
    "    if breaker==1: break\n",
    "    \n",
    "    # [1] Reseting the environment and adjusting the learning rate\n",
    "    pos, vel = env.reset()\n",
    "    a = env.action_space.sample()\n",
    "    alpha = l_rates[episode]\n",
    "    wandb.log({'lr': alpha}, step=episode)\n",
    "    \n",
    "    # [2] Initiating the agent\n",
    "    steps = 0\n",
    "    while True:\n",
    "        if render: env.render()\n",
    "            \n",
    "        steps += 1\n",
    "            \n",
    "        # [3] Predicting the value of the state-action before taking a step and calculating the gradient\n",
    "        state_act = np.array([[pos, vel, 0, 0, 0]]); state_act[0, a+2] = 1\n",
    "        q = get_values(state_act, w, kmeans_centres, sig)\n",
    "        q_grad = RBF_transform(state_act, kmeans_centres, sig)\n",
    "        \n",
    "        # [4] Taking the action, receiving a reward\n",
    "        (pos_, vel_), reward, done, _ = env.step(a)\n",
    "        \n",
    "        if done:\n",
    "            done_count += 1\n",
    "            wandb.log({'steps': steps}, step=episode)\n",
    "            w += alpha*(reward - q)*q_grad \n",
    "            break\n",
    "            \n",
    "        # [5] Predicting the values of all state-actions\n",
    "        state_acts = np.concatenate([np.repeat([[pos_, vel_]], env.action_space.n, axis=0),\n",
    "                                     np.eye(env.action_space.n)], axis=1)\n",
    "        values = get_values(state_acts, w, kmeans_centres, sig)\n",
    "        \n",
    "        # [6] Choosing an action\n",
    "        a_ = choose_action(values, PARAMS['epsilon'])        \n",
    "        if PARAMS['algo']=='SARSA':\n",
    "            q_ = values[a_]\n",
    "        elif PARAMS['algo']=='Q_learning':\n",
    "            q_ = values.max()\n",
    "        else:\n",
    "            print('invalid algo chosen')\n",
    "            breaker = 1\n",
    "            break\n",
    "        \n",
    "        # [7] Updating the weights\n",
    "        w += alpha*(reward + PARAMS['gamma']*q_ - q)*q_grad\n",
    "        \n",
    "        # [8] Storing state-action values for the next step\n",
    "        pos, vel, a = pos_, vel_, a_\n",
    "        \n",
    "        if steps>=PARAMS['max_steps']:\n",
    "            wandb.log({'steps': steps}, step=episode)\n",
    "            break\n",
    "\n",
    "             \n",
    "    pbar.set_postfix(done_count=done_count, steps_taken=steps)\n",
    "\n",
    "np.save('./weights', w)\n",
    "wandb.save('./weights.npy');"
   ]
  },
  {
   "cell_type": "markdown",
   "id": "09f87a49-0e64-45d3-98ff-10d1b399e696",
   "metadata": {},
   "source": [
    "<br>\n",
    "<br>\n",
    "<br>\n",
    "\n",
    "## Plotting the runs"
   ]
  },
  {
   "cell_type": "code",
   "execution_count": 6,
   "id": "b9f17fec-03ac-4d32-b428-94ac7491c90f",
   "metadata": {},
   "outputs": [
    {
     "data": {
      "image/png": "[encoded data removed]",
      "text/plain": [
       "<Figure size 432x288 with 1 Axes>"
      ]
     },
     "metadata": {
      "needs_background": "light"
     },
     "output_type": "display_data"
    }
   ],
   "source": [
    "fig, ax = plt.subplots(nrows=1, ncols=1, figsize=(6, 4))\n",
    "\n",
    "sarsa = wandb.Api().run(f'/MountainCarProblem/29tsllke').history(samples=5000)\n",
    "qlearn = wandb.Api().run(f'/MountainCarProblem/1o61c32z').history(samples=5000)\n",
    "\n",
    "def left(ax=ax):\n",
    "    \n",
    "    ax.plot(moving_average(sarsa['steps'], 30), label='SARSA', linewidth=1)\n",
    "    ax.plot(moving_average(qlearn['steps'], 30), label='Q-Learning', linewidth=1)\n",
    "    ax.set_ylim([0, 2000])\n",
    "    ax.grid()\n",
    "    ax.legend()    \n",
    "    \n",
    "\n",
    "left()\n",
    "sns.despine()\n",
    "\n",
    "plt.savefig('./Plots/sarsa_ql.png', bbox_inches='tight', pad_inches=0.1)"
   ]
  },
  {
   "cell_type": "code",
   "execution_count": 5,
   "id": "worldwide-sympathy",
   "metadata": {},
   "outputs": [
    {
     "data": {
      "image/png": "[encoded data removed]",
      "text/plain": [
       "<Figure size 864x288 with 2 Axes>"
      ]
     },
     "metadata": {
      "needs_background": "light"
     },
     "output_type": "display_data"
    }
   ],
   "source": [
    "fig, ax = plt.subplots(nrows=1, ncols=2, figsize=(12, 4))\n",
    "\n",
    "sarsa = wandb.Api().run(f'/MountainCarProblem/29tsllke').history(samples=5000)\n",
    "qlearn = wandb.Api().run(f'/MountainCarProblem/1o61c32z').history(samples=5000)\n",
    "\n",
    "def left(ax=ax[0]):\n",
    "    \n",
    "    ax.plot(moving_average(sarsa['steps'], 30), label='SARSA', linewidth=1)\n",
    "    ax.plot(moving_average(qlearn['steps'], 30), label='Q-Learning', linewidth=1)\n",
    "    ax.set_ylim([0, 2000])\n",
    "    ax.grid()\n",
    "    ax.legend()\n",
    "    \n",
    "def right(ax=ax[1]):\n",
    "    \n",
    "    ax.plot(sarsa['lr'], label='L-rates')\n",
    "    ax.grid()\n",
    "    ax.legend()\n",
    "    \n",
    "    \n",
    "\n",
    "left()\n",
    "right()\n",
    "sns.despine()"
   ]
  },
  {
   "cell_type": "code",
   "execution_count": null,
   "id": "applied-cincinnati",
   "metadata": {},
   "outputs": [],
   "source": []
  }
 ],
 "metadata": {
  "kernelspec": {
   "display_name": "Python 3",
   "language": "python",
   "name": "python3"
  },
  "language_info": {
   "codemirror_mode": {
    "name": "ipython",
    "version": 3
   },
   "file_extension": ".py",
   "mimetype": "text/x-python",
   "name": "python",
   "nbconvert_exporter": "python",
   "pygments_lexer": "ipython3",
   "version": "3.8.10"
  }
 },
 "nbformat": 4,
 "nbformat_minor": 5
}
