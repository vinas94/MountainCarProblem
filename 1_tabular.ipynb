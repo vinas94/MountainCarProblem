{
 "cells": [
  {
   "cell_type": "markdown",
   "id": "3f20492f-f37e-4547-90da-970fbb73e3ad",
   "metadata": {},
   "source": [
    "<br>\n",
    "\n",
    "## Loading libraries"
   ]
  },
  {
   "cell_type": "code",
   "execution_count": null,
   "id": "green-questionnaire",
   "metadata": {},
   "outputs": [],
   "source": [
    "import gym\n",
    "import wandb\n",
    "import numpy as np\n",
    "\n",
    "wandb.login();"
   ]
  },
  {
   "cell_type": "markdown",
   "id": "b2c5987b-866a-49ab-a90f-2c9af77c4242",
   "metadata": {},
   "source": [
    "<br>\n",
    "<br>\n",
    "<br>\n",
    "\n",
    "## Setting up wandb environment"
   ]
  },
  {
   "cell_type": "code",
   "execution_count": null,
   "id": "9ba1bcf4-addb-46a5-bdfd-d6ba7dc8a2f8",
   "metadata": {},
   "outputs": [],
   "source": [
    "# Training environment initialisations\n",
    "PARAMS = {\n",
    "    'n_states': 40,\n",
    "    'episodes': 5000,\n",
    "    'initial_lr': 1.0,\n",
    "    'min_lr': 0.005,\n",
    "    'gamma': 0.99,\n",
    "    'epsilon': 0.05,\n",
    "    'seed': 0\n",
    "}       \n",
    "\n",
    "wandb.init(project='MountainCarProblem', config=PARAMS, reinit=True)\n",
    "wandb.save('./1_offline_tabular.ipynb')\n",
    "PARAMS = wandb.config"
   ]
  },
  {
   "cell_type": "markdown",
   "id": "exciting-actor",
   "metadata": {},
   "source": [
    "<br>\n",
    "<br>\n",
    "<br>\n",
    "\n",
    "## Creating and Exploring the environment"
   ]
  },
  {
   "cell_type": "code",
   "execution_count": null,
   "id": "inside-sharing",
   "metadata": {},
   "outputs": [],
   "source": [
    "env_name = 'MountainCar-v0'\n",
    "env = gym.make(env_name).unwrapped\n",
    "env_low = env.observation_space.low\n",
    "env_high = env.observation_space.high\n",
    "q_table = np.zeros((PARAMS['n_states'], PARAMS['n_states'], env.action_space.n))"
   ]
  },
  {
   "cell_type": "code",
   "execution_count": null,
   "id": "6acf1312-a29f-4383-8b4f-41bdd6ef8026",
   "metadata": {},
   "outputs": [],
   "source": [
    "# Discretise the states\n",
    "def discretization(obs):\n",
    "    env_den = (env_high - env_low) / PARAMS['n_states']\n",
    "    return ((obs - env_low) / env_den).astype(int)"
   ]
  },
  {
   "cell_type": "markdown",
   "id": "240185cf-0f98-467b-be41-630e2cf44f2b",
   "metadata": {},
   "source": [
    "<img src='tabular.png'>"
   ]
  },
  {
   "cell_type": "code",
   "execution_count": null,
   "id": "secret-directory",
   "metadata": {},
   "outputs": [],
   "source": [
    "render = False\n",
    "env.seed(PARAMS['seed'])\n",
    "np.random.seed(PARAMS['seed'])\n",
    "for episode in range(PARAMS['episodes']):\n",
    "    \n",
    "    # [1] Reseting the environment and adjusting the learning rate\n",
    "    obs = env.reset()\n",
    "    alpha = max(PARAMS['min_lr'], PARAMS['initial_lr']*(PARAMS['gamma']**(episode//100)))\n",
    "    wandb.log({'lr': alpha}, step=episode)\n",
    "    \n",
    "    # [2] Initiating the agent\n",
    "    steps = 0\n",
    "    while True:\n",
    "        \n",
    "        if render: env.render()\n",
    "            \n",
    "        # [3] Discretising the observed state\n",
    "        pos, vel = discretization(obs)\n",
    "        \n",
    "        # [4] Choosing an action\n",
    "        if np.random.uniform(low=0, high=1) < PARAMS['epsilon']:\n",
    "            a = env.action_space.sample()\n",
    "        else:\n",
    "            a = np.argmax(q_table[pos][vel])\n",
    "            \n",
    "        # [5] Taking the action, receiving a reward\n",
    "        obs, reward, done, _ = env.step(a)\n",
    "        pos_, vel_ = discretization(obs)\n",
    "        \n",
    "        # [6] Q function update\n",
    "        q_table[pos][vel][a] = (1-alpha)*q_table[pos][vel][a] + alpha*(reward+PARAMS['gamma']*np.max(q_table[pos_][vel_]))\n",
    "        steps += 1\n",
    "        if done:\n",
    "            if episode in np.linspace(0, PARAMS['episodes'], 11).astype(int):\n",
    "                print('Episode:', episode, steps)\n",
    "            wandb.log({'steps': steps}, step=episode)\n",
    "            break\n",
    "            \n",
    "np.save('./q_table', q_table)\n",
    "wandb.save('./q_table.npy');"
   ]
  },
  {
   "cell_type": "code",
   "execution_count": null,
   "id": "5a44aba9-2d7b-4077-8193-76886d04dc26",
   "metadata": {},
   "outputs": [],
   "source": []
  }
 ],
 "metadata": {
  "kernelspec": {
   "display_name": "Python 3",
   "language": "python",
   "name": "python3"
  },
  "language_info": {
   "codemirror_mode": {
    "name": "ipython",
    "version": 3
   },
   "file_extension": ".py",
   "mimetype": "text/x-python",
   "name": "python",
   "nbconvert_exporter": "python",
   "pygments_lexer": "ipython3",
   "version": "3.8.10"
  }
 },
 "nbformat": 4,
 "nbformat_minor": 5
}
